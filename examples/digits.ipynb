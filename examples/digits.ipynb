{
 "cells": [
  {
   "cell_type": "markdown",
   "metadata": {},
   "source": [
    "# Digit zero data example\n",
    "This is an example that illustrates how to synthesize data with `arfpy`.\n",
    "Each image in the data set is a 8x8 pixel representation of digit zero."
   ]
  },
  {
   "cell_type": "code",
   "execution_count": 50,
   "metadata": {},
   "outputs": [],
   "source": [
    "from sklearn.datasets import load_digits\n",
    "from arfpy import arf\n",
    "import pandas as pd\n",
    "from matplotlib import pyplot as plt\n",
    "import warnings\n",
    "warnings.filterwarnings('ignore')\n",
    "from numpy import random\n",
    "random.seed(seed=2023)"
   ]
  },
  {
   "cell_type": "markdown",
   "metadata": {},
   "source": [
    "First, we load the data:"
   ]
  },
  {
   "cell_type": "code",
   "execution_count": 51,
   "metadata": {},
   "outputs": [],
   "source": [
    "df = load_digits(n_class=1) # zero digits\n",
    "df= df.images.reshape((len(df.images), -1))\n",
    "df = pd.DataFrame(df).astype('category') # set type from float to category to avoid floats in synthetic data"
   ]
  },
  {
   "cell_type": "markdown",
   "metadata": {},
   "source": [
    "Now we can define the ARF object and estimate the density"
   ]
  },
  {
   "cell_type": "code",
   "execution_count": 52,
   "metadata": {},
   "outputs": [
    {
     "name": "stdout",
     "output_type": "stream",
     "text": [
      "Initial accuracy is 0.7471910112359551\n",
      "Iteration number 1 reached accuracy of 0.449438202247191.\n"
     ]
    }
   ],
   "source": [
    "my_arf = arf.arf(x = df)\n",
    "FORDE = my_arf.forde()"
   ]
  },
  {
   "cell_type": "markdown",
   "metadata": {},
   "source": [
    "Finally, we can generate some new data:"
   ]
  },
  {
   "cell_type": "code",
   "execution_count": 53,
   "metadata": {},
   "outputs": [],
   "source": [
    "df_syn = my_arf.forge(n = 4)"
   ]
  },
  {
   "cell_type": "markdown",
   "metadata": {},
   "source": [
    "Let's plot some generated digits and compare them to the original mnist digits!\n"
   ]
  },
  {
   "cell_type": "code",
   "execution_count": 54,
   "metadata": {},
   "outputs": [
    {
     "data": {
      "image/png": "[encoded data removed]",
      "text/plain": [
       "<Figure size 720x216 with 4 Axes>"
      ]
     },
     "metadata": {
      "needs_background": "light"
     },
     "output_type": "display_data"
    },
    {
     "data": {
      "image/png": "[encoded data removed]",
      "text/plain": [
       "<Figure size 720x216 with 4 Axes>"
      ]
     },
     "metadata": {
      "needs_background": "light"
     },
     "output_type": "display_data"
    }
   ],
   "source": [
    "fig, axes = plt.subplots(nrows=1, ncols=4, figsize=(10, 3))\n",
    "for ax, image in zip(axes, df):\n",
    "    ax.set_axis_off()\n",
    "    image = df.iloc[image,].to_numpy().reshape(8,8)\n",
    "    ax.imshow(image, cmap=plt.cm.gray_r, interpolation=\"nearest\")\n",
    "fig.suptitle(\"Original zeros\")\n",
    "fig, axes = plt.subplots(nrows=1, ncols=4, figsize=(10, 3))\n",
    "fig.suptitle(\"Synthetic zeros\")\n",
    "for ax, image in zip(axes, df_syn):\n",
    "    ax.set_axis_off()\n",
    "    image = df_syn.iloc[image,].to_numpy().reshape(8,8)\n",
    "    ax.imshow(image, cmap=plt.cm.gray_r, interpolation=\"nearest\")\n"
   ]
  }
 ],
 "metadata": {
  "kernelspec": {
   "display_name": "base",
   "language": "python",
   "name": "python3"
  },
  "language_info": {
   "codemirror_mode": {
    "name": "ipython",
    "version": 3
   },
   "file_extension": ".py",
   "mimetype": "text/x-python",
   "name": "python",
   "nbconvert_exporter": "python",
   "pygments_lexer": "ipython3",
   "version": "3.8.8"
  }
 },
 "nbformat": 4,
 "nbformat_minor": 2
}
